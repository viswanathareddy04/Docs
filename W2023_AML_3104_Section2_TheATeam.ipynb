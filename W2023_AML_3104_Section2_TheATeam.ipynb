{
  "cells": [
    {
      "cell_type": "markdown",
      "metadata": {
        "id": "view-in-github",
        "colab_type": "text"
      },
      "source": [
        "<a href=\"https://colab.research.google.com/github/viswanathareddy04/Docs/blob/master/W2023_AML_3104_Section2_TheATeam.ipynb\" target=\"_parent\"><img src=\"https://colab.research.google.com/assets/colab-badge.svg\" alt=\"Open In Colab\"/></a>"
      ]
    },
    {
      "cell_type": "markdown",
      "metadata": {
        "id": "EaoJpGhqNmKv"
      },
      "source": [
        "# AML-3104 Assignment 1\n",
        "### [30 Marks, 20%]"
      ]
    },
    {
      "cell_type": "markdown",
      "metadata": {
        "id": "CfLyXH46NmK2"
      },
      "source": [
        "## Import libraries"
      ]
    },
    {
      "cell_type": "code",
      "execution_count": 1,
      "metadata": {
        "id": "NMpRFF9jNmK4"
      },
      "outputs": [],
      "source": [
        "import numpy as np\n",
        "import matplotlib.pyplot as plt\n",
        "import seaborn as sns\n",
        "from sklearn.decomposition import PCA\n",
        "from sklearn.discriminant_analysis import LinearDiscriminantAnalysis\n",
        "from sklearn.naive_bayes import GaussianNB\n",
        "from sklearn.naive_bayes import MultinomialNB\n",
        "\n",
        "import pandas as pd\n",
        "\n",
        "from sklearn.linear_model import LogisticRegression\n",
        "from sklearn.svm import SVC\n",
        "from sklearn.metrics import confusion_matrix\n",
        "from sklearn.metrics import classification_report\n",
        "from sklearn.metrics import f1_score\n",
        "from sklearn.metrics import precision_score\n",
        "from sklearn.metrics import recall_score\n",
        "from sklearn.discriminant_analysis import LinearDiscriminantAnalysis as LDA"
      ]
    },
    {
      "cell_type": "markdown",
      "metadata": {
        "id": "T6g_sNXuNmK6"
      },
      "source": [
        "## Load dataset"
      ]
    },
    {
      "cell_type": "code",
      "execution_count": 2,
      "metadata": {
        "colab": {
          "base_uri": "https://localhost:8080/",
          "height": 424
        },
        "id": "3uwy40MWNmK7",
        "outputId": "a1999766-4a6d-41a3-ecfe-ba9d2b44be33"
      },
      "outputs": [
        {
          "output_type": "execute_result",
          "data": {
            "text/plain": [
              "       0     1     2     3     4     5     6     7     8     9     ...  2301  \\\n",
              "0        70    80    82    72    58    58    60    63    54    58  ...   106   \n",
              "1       151   150   147   155   148   133   111   140   170   174  ...   193   \n",
              "2       231   212   156   164   174   138   161   173   182   200  ...    88   \n",
              "3        24    32    36    30    32    23    19    20    30    41  ...   142   \n",
              "4         4     0     0     0     0     0     0     0     0     0  ...    30   \n",
              "...     ...   ...   ...   ...   ...   ...   ...   ...   ...   ...  ...   ...   \n",
              "28704    84    85    85    85    85    85    85    85    86    86  ...   231   \n",
              "28705   114   112   113   113   111   111   112   113   115   113  ...   129   \n",
              "28706    74    81    87    89    95   100    98    93   105   120  ...   188   \n",
              "28707   222   227   203    90    86    90    84    77    94    87  ...   136   \n",
              "28708   195   199   205   206   205   203   206   209   208   210  ...     6   \n",
              "\n",
              "       2302  2303  2304  2305  2306  2307  2308  2309  2310  \n",
              "0       109    82     1     0     0     0     0     0     0  \n",
              "1       183   184     1     0     0     0     0     0     0  \n",
              "2       110   152     0     0     1     0     0     0     0  \n",
              "3       143   142     0     0     0     0     1     0     0  \n",
              "4        29    30     0     0     0     0     0     0     1  \n",
              "...     ...   ...   ...   ...   ...   ...   ...   ...   ...  \n",
              "28704   215   200     0     0     1     0     0     0     0  \n",
              "28705   182   222     1     0     0     0     0     0     0  \n",
              "28706   187   187     0     0     0     0     1     0     0  \n",
              "28707   136   134     1     0     0     0     0     0     0  \n",
              "28708    15    38     0     0     0     0     1     0     0  \n",
              "\n",
              "[28709 rows x 2311 columns]"
            ],
            "text/html": [
              "\n",
              "  <div id=\"df-013097f3-e3f1-4f27-ada6-dcc2dd119f83\">\n",
              "    <div class=\"colab-df-container\">\n",
              "      <div>\n",
              "<style scoped>\n",
              "    .dataframe tbody tr th:only-of-type {\n",
              "        vertical-align: middle;\n",
              "    }\n",
              "\n",
              "    .dataframe tbody tr th {\n",
              "        vertical-align: top;\n",
              "    }\n",
              "\n",
              "    .dataframe thead th {\n",
              "        text-align: right;\n",
              "    }\n",
              "</style>\n",
              "<table border=\"1\" class=\"dataframe\">\n",
              "  <thead>\n",
              "    <tr style=\"text-align: right;\">\n",
              "      <th></th>\n",
              "      <th>0</th>\n",
              "      <th>1</th>\n",
              "      <th>2</th>\n",
              "      <th>3</th>\n",
              "      <th>4</th>\n",
              "      <th>5</th>\n",
              "      <th>6</th>\n",
              "      <th>7</th>\n",
              "      <th>8</th>\n",
              "      <th>9</th>\n",
              "      <th>...</th>\n",
              "      <th>2301</th>\n",
              "      <th>2302</th>\n",
              "      <th>2303</th>\n",
              "      <th>2304</th>\n",
              "      <th>2305</th>\n",
              "      <th>2306</th>\n",
              "      <th>2307</th>\n",
              "      <th>2308</th>\n",
              "      <th>2309</th>\n",
              "      <th>2310</th>\n",
              "    </tr>\n",
              "  </thead>\n",
              "  <tbody>\n",
              "    <tr>\n",
              "      <th>0</th>\n",
              "      <td>70</td>\n",
              "      <td>80</td>\n",
              "      <td>82</td>\n",
              "      <td>72</td>\n",
              "      <td>58</td>\n",
              "      <td>58</td>\n",
              "      <td>60</td>\n",
              "      <td>63</td>\n",
              "      <td>54</td>\n",
              "      <td>58</td>\n",
              "      <td>...</td>\n",
              "      <td>106</td>\n",
              "      <td>109</td>\n",
              "      <td>82</td>\n",
              "      <td>1</td>\n",
              "      <td>0</td>\n",
              "      <td>0</td>\n",
              "      <td>0</td>\n",
              "      <td>0</td>\n",
              "      <td>0</td>\n",
              "      <td>0</td>\n",
              "    </tr>\n",
              "    <tr>\n",
              "      <th>1</th>\n",
              "      <td>151</td>\n",
              "      <td>150</td>\n",
              "      <td>147</td>\n",
              "      <td>155</td>\n",
              "      <td>148</td>\n",
              "      <td>133</td>\n",
              "      <td>111</td>\n",
              "      <td>140</td>\n",
              "      <td>170</td>\n",
              "      <td>174</td>\n",
              "      <td>...</td>\n",
              "      <td>193</td>\n",
              "      <td>183</td>\n",
              "      <td>184</td>\n",
              "      <td>1</td>\n",
              "      <td>0</td>\n",
              "      <td>0</td>\n",
              "      <td>0</td>\n",
              "      <td>0</td>\n",
              "      <td>0</td>\n",
              "      <td>0</td>\n",
              "    </tr>\n",
              "    <tr>\n",
              "      <th>2</th>\n",
              "      <td>231</td>\n",
              "      <td>212</td>\n",
              "      <td>156</td>\n",
              "      <td>164</td>\n",
              "      <td>174</td>\n",
              "      <td>138</td>\n",
              "      <td>161</td>\n",
              "      <td>173</td>\n",
              "      <td>182</td>\n",
              "      <td>200</td>\n",
              "      <td>...</td>\n",
              "      <td>88</td>\n",
              "      <td>110</td>\n",
              "      <td>152</td>\n",
              "      <td>0</td>\n",
              "      <td>0</td>\n",
              "      <td>1</td>\n",
              "      <td>0</td>\n",
              "      <td>0</td>\n",
              "      <td>0</td>\n",
              "      <td>0</td>\n",
              "    </tr>\n",
              "    <tr>\n",
              "      <th>3</th>\n",
              "      <td>24</td>\n",
              "      <td>32</td>\n",
              "      <td>36</td>\n",
              "      <td>30</td>\n",
              "      <td>32</td>\n",
              "      <td>23</td>\n",
              "      <td>19</td>\n",
              "      <td>20</td>\n",
              "      <td>30</td>\n",
              "      <td>41</td>\n",
              "      <td>...</td>\n",
              "      <td>142</td>\n",
              "      <td>143</td>\n",
              "      <td>142</td>\n",
              "      <td>0</td>\n",
              "      <td>0</td>\n",
              "      <td>0</td>\n",
              "      <td>0</td>\n",
              "      <td>1</td>\n",
              "      <td>0</td>\n",
              "      <td>0</td>\n",
              "    </tr>\n",
              "    <tr>\n",
              "      <th>4</th>\n",
              "      <td>4</td>\n",
              "      <td>0</td>\n",
              "      <td>0</td>\n",
              "      <td>0</td>\n",
              "      <td>0</td>\n",
              "      <td>0</td>\n",
              "      <td>0</td>\n",
              "      <td>0</td>\n",
              "      <td>0</td>\n",
              "      <td>0</td>\n",
              "      <td>...</td>\n",
              "      <td>30</td>\n",
              "      <td>29</td>\n",
              "      <td>30</td>\n",
              "      <td>0</td>\n",
              "      <td>0</td>\n",
              "      <td>0</td>\n",
              "      <td>0</td>\n",
              "      <td>0</td>\n",
              "      <td>0</td>\n",
              "      <td>1</td>\n",
              "    </tr>\n",
              "    <tr>\n",
              "      <th>...</th>\n",
              "      <td>...</td>\n",
              "      <td>...</td>\n",
              "      <td>...</td>\n",
              "      <td>...</td>\n",
              "      <td>...</td>\n",
              "      <td>...</td>\n",
              "      <td>...</td>\n",
              "      <td>...</td>\n",
              "      <td>...</td>\n",
              "      <td>...</td>\n",
              "      <td>...</td>\n",
              "      <td>...</td>\n",
              "      <td>...</td>\n",
              "      <td>...</td>\n",
              "      <td>...</td>\n",
              "      <td>...</td>\n",
              "      <td>...</td>\n",
              "      <td>...</td>\n",
              "      <td>...</td>\n",
              "      <td>...</td>\n",
              "      <td>...</td>\n",
              "    </tr>\n",
              "    <tr>\n",
              "      <th>28704</th>\n",
              "      <td>84</td>\n",
              "      <td>85</td>\n",
              "      <td>85</td>\n",
              "      <td>85</td>\n",
              "      <td>85</td>\n",
              "      <td>85</td>\n",
              "      <td>85</td>\n",
              "      <td>85</td>\n",
              "      <td>86</td>\n",
              "      <td>86</td>\n",
              "      <td>...</td>\n",
              "      <td>231</td>\n",
              "      <td>215</td>\n",
              "      <td>200</td>\n",
              "      <td>0</td>\n",
              "      <td>0</td>\n",
              "      <td>1</td>\n",
              "      <td>0</td>\n",
              "      <td>0</td>\n",
              "      <td>0</td>\n",
              "      <td>0</td>\n",
              "    </tr>\n",
              "    <tr>\n",
              "      <th>28705</th>\n",
              "      <td>114</td>\n",
              "      <td>112</td>\n",
              "      <td>113</td>\n",
              "      <td>113</td>\n",
              "      <td>111</td>\n",
              "      <td>111</td>\n",
              "      <td>112</td>\n",
              "      <td>113</td>\n",
              "      <td>115</td>\n",
              "      <td>113</td>\n",
              "      <td>...</td>\n",
              "      <td>129</td>\n",
              "      <td>182</td>\n",
              "      <td>222</td>\n",
              "      <td>1</td>\n",
              "      <td>0</td>\n",
              "      <td>0</td>\n",
              "      <td>0</td>\n",
              "      <td>0</td>\n",
              "      <td>0</td>\n",
              "      <td>0</td>\n",
              "    </tr>\n",
              "    <tr>\n",
              "      <th>28706</th>\n",
              "      <td>74</td>\n",
              "      <td>81</td>\n",
              "      <td>87</td>\n",
              "      <td>89</td>\n",
              "      <td>95</td>\n",
              "      <td>100</td>\n",
              "      <td>98</td>\n",
              "      <td>93</td>\n",
              "      <td>105</td>\n",
              "      <td>120</td>\n",
              "      <td>...</td>\n",
              "      <td>188</td>\n",
              "      <td>187</td>\n",
              "      <td>187</td>\n",
              "      <td>0</td>\n",
              "      <td>0</td>\n",
              "      <td>0</td>\n",
              "      <td>0</td>\n",
              "      <td>1</td>\n",
              "      <td>0</td>\n",
              "      <td>0</td>\n",
              "    </tr>\n",
              "    <tr>\n",
              "      <th>28707</th>\n",
              "      <td>222</td>\n",
              "      <td>227</td>\n",
              "      <td>203</td>\n",
              "      <td>90</td>\n",
              "      <td>86</td>\n",
              "      <td>90</td>\n",
              "      <td>84</td>\n",
              "      <td>77</td>\n",
              "      <td>94</td>\n",
              "      <td>87</td>\n",
              "      <td>...</td>\n",
              "      <td>136</td>\n",
              "      <td>136</td>\n",
              "      <td>134</td>\n",
              "      <td>1</td>\n",
              "      <td>0</td>\n",
              "      <td>0</td>\n",
              "      <td>0</td>\n",
              "      <td>0</td>\n",
              "      <td>0</td>\n",
              "      <td>0</td>\n",
              "    </tr>\n",
              "    <tr>\n",
              "      <th>28708</th>\n",
              "      <td>195</td>\n",
              "      <td>199</td>\n",
              "      <td>205</td>\n",
              "      <td>206</td>\n",
              "      <td>205</td>\n",
              "      <td>203</td>\n",
              "      <td>206</td>\n",
              "      <td>209</td>\n",
              "      <td>208</td>\n",
              "      <td>210</td>\n",
              "      <td>...</td>\n",
              "      <td>6</td>\n",
              "      <td>15</td>\n",
              "      <td>38</td>\n",
              "      <td>0</td>\n",
              "      <td>0</td>\n",
              "      <td>0</td>\n",
              "      <td>0</td>\n",
              "      <td>1</td>\n",
              "      <td>0</td>\n",
              "      <td>0</td>\n",
              "    </tr>\n",
              "  </tbody>\n",
              "</table>\n",
              "<p>28709 rows × 2311 columns</p>\n",
              "</div>\n",
              "      <button class=\"colab-df-convert\" onclick=\"convertToInteractive('df-013097f3-e3f1-4f27-ada6-dcc2dd119f83')\"\n",
              "              title=\"Convert this dataframe to an interactive table.\"\n",
              "              style=\"display:none;\">\n",
              "        \n",
              "  <svg xmlns=\"http://www.w3.org/2000/svg\" height=\"24px\"viewBox=\"0 0 24 24\"\n",
              "       width=\"24px\">\n",
              "    <path d=\"M0 0h24v24H0V0z\" fill=\"none\"/>\n",
              "    <path d=\"M18.56 5.44l.94 2.06.94-2.06 2.06-.94-2.06-.94-.94-2.06-.94 2.06-2.06.94zm-11 1L8.5 8.5l.94-2.06 2.06-.94-2.06-.94L8.5 2.5l-.94 2.06-2.06.94zm10 10l.94 2.06.94-2.06 2.06-.94-2.06-.94-.94-2.06-.94 2.06-2.06.94z\"/><path d=\"M17.41 7.96l-1.37-1.37c-.4-.4-.92-.59-1.43-.59-.52 0-1.04.2-1.43.59L10.3 9.45l-7.72 7.72c-.78.78-.78 2.05 0 2.83L4 21.41c.39.39.9.59 1.41.59.51 0 1.02-.2 1.41-.59l7.78-7.78 2.81-2.81c.8-.78.8-2.07 0-2.86zM5.41 20L4 18.59l7.72-7.72 1.47 1.35L5.41 20z\"/>\n",
              "  </svg>\n",
              "      </button>\n",
              "      \n",
              "  <style>\n",
              "    .colab-df-container {\n",
              "      display:flex;\n",
              "      flex-wrap:wrap;\n",
              "      gap: 12px;\n",
              "    }\n",
              "\n",
              "    .colab-df-convert {\n",
              "      background-color: #E8F0FE;\n",
              "      border: none;\n",
              "      border-radius: 50%;\n",
              "      cursor: pointer;\n",
              "      display: none;\n",
              "      fill: #1967D2;\n",
              "      height: 32px;\n",
              "      padding: 0 0 0 0;\n",
              "      width: 32px;\n",
              "    }\n",
              "\n",
              "    .colab-df-convert:hover {\n",
              "      background-color: #E2EBFA;\n",
              "      box-shadow: 0px 1px 2px rgba(60, 64, 67, 0.3), 0px 1px 3px 1px rgba(60, 64, 67, 0.15);\n",
              "      fill: #174EA6;\n",
              "    }\n",
              "\n",
              "    [theme=dark] .colab-df-convert {\n",
              "      background-color: #3B4455;\n",
              "      fill: #D2E3FC;\n",
              "    }\n",
              "\n",
              "    [theme=dark] .colab-df-convert:hover {\n",
              "      background-color: #434B5C;\n",
              "      box-shadow: 0px 1px 3px 1px rgba(0, 0, 0, 0.15);\n",
              "      filter: drop-shadow(0px 1px 2px rgba(0, 0, 0, 0.3));\n",
              "      fill: #FFFFFF;\n",
              "    }\n",
              "  </style>\n",
              "\n",
              "      <script>\n",
              "        const buttonEl =\n",
              "          document.querySelector('#df-013097f3-e3f1-4f27-ada6-dcc2dd119f83 button.colab-df-convert');\n",
              "        buttonEl.style.display =\n",
              "          google.colab.kernel.accessAllowed ? 'block' : 'none';\n",
              "\n",
              "        async function convertToInteractive(key) {\n",
              "          const element = document.querySelector('#df-013097f3-e3f1-4f27-ada6-dcc2dd119f83');\n",
              "          const dataTable =\n",
              "            await google.colab.kernel.invokeFunction('convertToInteractive',\n",
              "                                                     [key], {});\n",
              "          if (!dataTable) return;\n",
              "\n",
              "          const docLinkHtml = 'Like what you see? Visit the ' +\n",
              "            '<a target=\"_blank\" href=https://colab.research.google.com/notebooks/data_table.ipynb>data table notebook</a>'\n",
              "            + ' to learn more about interactive tables.';\n",
              "          element.innerHTML = '';\n",
              "          dataTable['output_type'] = 'display_data';\n",
              "          await google.colab.output.renderOutput(dataTable, element);\n",
              "          const docLink = document.createElement('div');\n",
              "          docLink.innerHTML = docLinkHtml;\n",
              "          element.appendChild(docLink);\n",
              "        }\n",
              "      </script>\n",
              "    </div>\n",
              "  </div>\n",
              "  "
            ]
          },
          "metadata": {},
          "execution_count": 2
        }
      ],
      "source": [
        "trainingset_df= pd.read_csv('training.csv', header=None)\n",
        "testingset_df= pd.read_csv('training.csv', header=None)\n",
        "# trainingset = np.loadtxt('training.csv', delimiter=',')\n",
        "# testingset = np.loadtxt('test.csv', delimiter=',')\n",
        "\n",
        "# trainingset\n",
        "trainingset_df"
      ]
    },
    {
      "cell_type": "markdown",
      "source": [
        "check for missing values in traininhset_df DataFrame\n"
      ],
      "metadata": {
        "id": "COBuEMzqRfUU"
      }
    },
    {
      "cell_type": "code",
      "execution_count": 3,
      "metadata": {
        "colab": {
          "base_uri": "https://localhost:8080/"
        },
        "id": "8bzV61gsNmK8",
        "outputId": "264c014f-6090-4c5f-c92b-c4550421f5cf"
      },
      "outputs": [
        {
          "output_type": "execute_result",
          "data": {
            "text/plain": [
              "False"
            ]
          },
          "metadata": {},
          "execution_count": 3
        }
      ],
      "source": [
        "# print(np.isnan(trainingset).any())\n",
        "# print(np.isnan(testingset).any())\n",
        "\n",
        "trainingset_df.isnull().values.any()"
      ]
    },
    {
      "cell_type": "markdown",
      "source": [
        "check for missing values in testingset_df dataframe"
      ],
      "metadata": {
        "id": "3Jmm1Ao9ScCV"
      }
    },
    {
      "cell_type": "code",
      "source": [
        "testingset_df.isnull().values.any()"
      ],
      "metadata": {
        "colab": {
          "base_uri": "https://localhost:8080/"
        },
        "id": "LgpjDeuZSjdv",
        "outputId": "0d46ab86-7e88-43b6-b46c-27ee751c0ee5"
      },
      "execution_count": 4,
      "outputs": [
        {
          "output_type": "execute_result",
          "data": {
            "text/plain": [
              "False"
            ]
          },
          "metadata": {},
          "execution_count": 4
        }
      ]
    },
    {
      "cell_type": "markdown",
      "metadata": {
        "id": "kfMIYOAHNmK9"
      },
      "source": [
        "## Split data"
      ]
    },
    {
      "cell_type": "code",
      "execution_count": 5,
      "metadata": {
        "id": "LfgNRQxxNmK-"
      },
      "outputs": [],
      "source": [
        "n_inputs = 2304 # images are 48 x 48\n",
        "n_classes = 7 # 7 classes - as defined below\n",
        "img_dim = 48 # each input image dimension, width and height are both 48\n",
        "\n",
        "# x_training = trainingset[:, 0:n_inputs] # Extract the first 2304 elements - the image\n",
        "# y_training = trainingset[:, n_inputs:n_inputs + n_classes] # Extract the last 7 elements - a one hot category encoding\n",
        "\n",
        "x_training = trainingset_df.iloc[:, 0:n_inputs].values\n",
        "y_training = trainingset_df.iloc[:, n_inputs:n_inputs + n_classes].values\n",
        "\n",
        "# x_testing = testingset[:, 0:n_inputs] # Extract the first 2304 elements - the image\n",
        "# y_testing = testingset[:, n_inputs:n_inputs + n_classes] # Extract the last 7 elements - a one hot category encoding\n",
        "x_testing = testingset_df.iloc[:, 0:n_inputs].values # Extract the first 2304 elements - the image\n",
        "y_testing = testingset_df.iloc[:, n_inputs:n_inputs + n_classes].values # Extract the last 7 elements - a one hot category encoding\n",
        "\n",
        "x_training = x_training.reshape(x_training.shape[0], 48, 48) # Make samples image shaped\n",
        "x_testing = x_testing.reshape(x_testing.shape[0], 48, 48) # Make samples image shaped"
      ]
    },
    {
      "cell_type": "markdown",
      "source": [
        "x_training , y_training  numpy array shape"
      ],
      "metadata": {
        "id": "5jTMTRS9Tzi7"
      }
    },
    {
      "cell_type": "code",
      "source": [
        "x_training.shape , y_training.shape"
      ],
      "metadata": {
        "colab": {
          "base_uri": "https://localhost:8080/"
        },
        "id": "rrr1QoDmTb-n",
        "outputId": "45b7789a-9d72-4f06-a0d8-ec7cacd9d287"
      },
      "execution_count": 6,
      "outputs": [
        {
          "output_type": "execute_result",
          "data": {
            "text/plain": [
              "((28709, 48, 48), (28709, 7))"
            ]
          },
          "metadata": {},
          "execution_count": 6
        }
      ]
    },
    {
      "cell_type": "markdown",
      "source": [
        "x_testing , y_testing  numpy array shape"
      ],
      "metadata": {
        "id": "Dzzjlp3ZUCGx"
      }
    },
    {
      "cell_type": "code",
      "source": [
        "x_testing.shape,y_testing.shape\n"
      ],
      "metadata": {
        "colab": {
          "base_uri": "https://localhost:8080/"
        },
        "id": "gVApHM0_UQbx",
        "outputId": "3907a66e-ee9e-4ec8-df22-cc327b1bdb86"
      },
      "execution_count": 7,
      "outputs": [
        {
          "output_type": "execute_result",
          "data": {
            "text/plain": [
              "((28709, 48, 48), (28709, 7))"
            ]
          },
          "metadata": {},
          "execution_count": 7
        }
      ]
    },
    {
      "cell_type": "markdown",
      "source": [
        "This function takes a one-hot encoded label vector as input and returns the corresponding emotion label as a string. "
      ],
      "metadata": {
        "id": "IQro7bm4VUiL"
      }
    },
    {
      "cell_type": "code",
      "execution_count": 8,
      "metadata": {
        "id": "tMdapH_vNmK_"
      },
      "outputs": [],
      "source": [
        "def get_emotion(whichemotion):\n",
        "    if whichemotion.shape[0] == 1:\n",
        "        indx = whichemotion[0]\n",
        "    else:\n",
        "        indx = np.argmax(whichemotion)\n",
        "    if indx == 0:\n",
        "        return 'angry'\n",
        "    elif indx == 1:\n",
        "        return 'disgust'\n",
        "    elif indx == 2:\n",
        "        return 'fear'\n",
        "    elif indx == 3:\n",
        "        return 'happy'\n",
        "    elif indx == 4:\n",
        "        return 'sad'\n",
        "    elif indx == 5:\n",
        "        return 'surprise'\n",
        "    elif indx == 6:\n",
        "        return 'neutral'"
      ]
    },
    {
      "cell_type": "markdown",
      "source": [
        "Plotting the random images"
      ],
      "metadata": {
        "id": "w2coFDmyVfUZ"
      }
    },
    {
      "cell_type": "code",
      "execution_count": 9,
      "metadata": {
        "colab": {
          "base_uri": "https://localhost:8080/",
          "height": 284
        },
        "id": "w8VspE0ENmLB",
        "outputId": "a1f92e76-b2e0-48df-8b2b-bd975f8ece2d"
      },
      "outputs": [
        {
          "output_type": "display_data",
          "data": {
            "text/plain": [
              "<Figure size 432x288 with 1 Axes>"
            ],
            "image/png": "[encoded data removed]"
          },
          "metadata": {
            "needs_background": "light"
          }
        },
        {
          "output_type": "stream",
          "name": "stdout",
          "text": [
            "facial emotion: sad\n"
          ]
        }
      ],
      "source": [
        "sampleindex = np.random.randint(0,1000)\n",
        "sample = x_training[sampleindex, :]\n",
        "sample = sample.reshape(48, 48)\n",
        "\n",
        "plt.imshow(sample, cmap='gray')\n",
        "plt.show()\n",
        "print('facial emotion: %s' % get_emotion(y_training[sampleindex, :]))"
      ]
    },
    {
      "cell_type": "markdown",
      "metadata": {
        "id": "2ntaY5y6NmLC"
      },
      "source": [
        "# Part I : Happy or Sad\n",
        "\n",
        "## For this part you will consider a binary classification problem - categorizing faces as happy or sad"
      ]
    },
    {
      "cell_type": "markdown",
      "metadata": {
        "collapsed": true,
        "id": "SZxDePfKNmLD"
      },
      "source": [
        "[1 Mark] a. Sample from the data loaded above to include only the happy or sad cases"
      ]
    },
    {
      "cell_type": "code",
      "execution_count": 10,
      "metadata": {
        "colab": {
          "base_uri": "https://localhost:8080/"
        },
        "id": "y5tL7XAbNmLF",
        "outputId": "93b2b0bd-2b37-4811-e0f6-3f5a672ce28a"
      },
      "outputs": [
        {
          "output_type": "stream",
          "name": "stdout",
          "text": [
            "(12045, 48, 48)\n",
            "(12045, 2)\n",
            "(12045, 48, 48)\n",
            "(12045, 2)\n"
          ]
        }
      ],
      "source": [
        "# Define the target emotion labels to keep\n",
        "target_labels = [3, 4]\n",
        "\n",
        "# Select only the rows corresponding to the target emotions\n",
        "training_mask = np.isin(trainingset_df.values[:, n_inputs:n_inputs+n_classes].argmax(axis=1), target_labels)\n",
        "testing_mask = np.isin(trainingset_df.values[:, n_inputs:n_inputs+n_classes].argmax(axis=1), target_labels)\n",
        "x_training1 = x_training[training_mask]\n",
        "y_training1 = y_training[training_mask][:, target_labels]\n",
        "x_testing1 = x_testing[testing_mask]\n",
        "y_testing1 = y_testing[testing_mask][:, target_labels]\n",
        "\n",
        "# Print the shapes of the filtered datasets\n",
        "print(x_training1.shape)\n",
        "print(y_training1.shape)\n",
        "print(x_testing1.shape)\n",
        "print(y_testing1.shape)"
      ]
    },
    {
      "cell_type": "code",
      "execution_count": 11,
      "metadata": {
        "colab": {
          "base_uri": "https://localhost:8080/",
          "height": 354
        },
        "id": "ao40nGM-NmLG",
        "outputId": "fffd2f84-ebfe-4b2f-f170-34cd1315c531"
      },
      "outputs": [
        {
          "output_type": "stream",
          "name": "stdout",
          "text": [
            "(12045, 48, 48)\n",
            "(12045, 2)\n",
            "(12045, 48, 48)\n",
            "(12045, 2)\n"
          ]
        },
        {
          "output_type": "display_data",
          "data": {
            "text/plain": [
              "<Figure size 432x288 with 1 Axes>"
            ],
            "image/png": "[encoded data removed]"
          },
          "metadata": {
            "needs_background": "light"
          }
        },
        {
          "output_type": "stream",
          "name": "stdout",
          "text": [
            "facial emotion: disgust\n"
          ]
        }
      ],
      "source": [
        "print(x_training1.shape)\n",
        "print(y_training1.shape)\n",
        "\n",
        "print(x_testing1.shape)\n",
        "print(y_testing1.shape)\n",
        "\n",
        "sampleindex1 = np.random.randint(0,1000)\n",
        "sample1 = x_training1[sampleindex1, :]\n",
        "sample1 = sample1.reshape(48, 48)\n",
        "\n",
        "plt.imshow(sample1, cmap='gray')\n",
        "plt.show()\n",
        "print('facial emotion: %s' % get_emotion(y_training1[sampleindex1, :]))"
      ]
    },
    {
      "cell_type": "markdown",
      "metadata": {
        "collapsed": true,
        "id": "Emvqq2c8NmLH"
      },
      "source": [
        "[4 Marks] b. Apply PCA and LDA to represent the faces, display a sample of a few faces for each case. You may consider using one or both of these in the steps that follow if they are of any value (this is for you to decide)."
      ]
    },
    {
      "cell_type": "code",
      "execution_count": 12,
      "metadata": {
        "id": "w1wJs2cHNmLH"
      },
      "outputs": [],
      "source": [
        "# Reshape the image data to a 2D array for PCA and LDA\n",
        "x_training_2d = x_training1.reshape(x_training1.shape[0], -1)\n",
        "x_testing_2d = x_testing1.reshape(x_testing1.shape[0], -1)"
      ]
    },
    {
      "cell_type": "markdown",
      "source": [
        "Apply PCA to the training data"
      ],
      "metadata": {
        "id": "sWUwtxd6i_1H"
      }
    },
    {
      "cell_type": "code",
      "execution_count": 13,
      "metadata": {
        "colab": {
          "base_uri": "https://localhost:8080/",
          "height": 144
        },
        "id": "5n0wDwDENmLI",
        "outputId": "3e961bd0-dc3b-4f6e-f8f3-cd4a2dcbbf66"
      },
      "outputs": [
        {
          "output_type": "display_data",
          "data": {
            "text/plain": [
              "<Figure size 1440x720 with 10 Axes>"
            ],
            "image/png": "[encoded data removed]"
          },
          "metadata": {
            "needs_background": "light"
          }
        }
      ],
      "source": [
        "\n",
        "pca = PCA(n_components=100)\n",
        "x_training_pca = pca.fit_transform(x_training_2d)\n",
        "\n",
        "\n",
        "\n",
        "# Display a sample of faces for each case\n",
        "n_samples = 10\n",
        "\n",
        "# Display a sample of PCA-reduced faces\n",
        "fig, axs = plt.subplots(1, n_samples, figsize=(20, 10))\n",
        "for i in range(n_samples):\n",
        "    sample_idx = np.random.randint(x_training_pca.shape[0])\n",
        "    axs[i].imshow(pca.inverse_transform(x_training_pca[sample_idx]).reshape(48, 48), cmap='gray')\n",
        "    axs[i].set_title(get_emotion(y_training1[sample_idx]))\n",
        "plt.show()\n",
        "\n",
        "\n"
      ]
    },
    {
      "cell_type": "markdown",
      "source": [
        "Apply LDA to the training data"
      ],
      "metadata": {
        "id": "XwBva0FajDi7"
      }
    },
    {
      "cell_type": "code",
      "source": [
        "\n",
        "lda = LinearDiscriminantAnalysis(n_components=1)\n",
        "x_training_lda = lda.fit_transform(x_training_2d, y_training1.argmax(axis=1))\n",
        "# Display a sample of LDA-reduced faces\n",
        "fig, axs = plt.subplots(1, n_samples, figsize=(20, 10))\n",
        "for i in range(n_samples):\n",
        "    sample_idx = np.random.randint(x_training_lda.shape[0])\n",
        "    axs[i].imshow(x_training_lda[sample_idx].reshape(1, -1), cmap='gray')\n",
        "    axs[i].set_title(get_emotion(y_training1[sample_idx]))\n",
        "plt.show()"
      ],
      "metadata": {
        "colab": {
          "base_uri": "https://localhost:8080/",
          "height": 141
        },
        "id": "osaOzSxJikYK",
        "outputId": "b18f9e5f-43f7-402a-c981-9ad733abf1ed"
      },
      "execution_count": 14,
      "outputs": [
        {
          "output_type": "display_data",
          "data": {
            "text/plain": [
              "<Figure size 1440x720 with 10 Axes>"
            ],
            "image/png": "[encoded data removed]"
          },
          "metadata": {
            "needs_background": "light"
          }
        }
      ]
    },
    {
      "cell_type": "markdown",
      "metadata": {
        "collapsed": true,
        "id": "rXtF9GCFNmLJ"
      },
      "source": [
        "[2 Marks] c. Apply naive Bayes to classify faces as happy or sad. Report your accuracy."
      ]
    },
    {
      "cell_type": "code",
      "execution_count": 15,
      "metadata": {
        "colab": {
          "base_uri": "https://localhost:8080/",
          "height": 570
        },
        "id": "FTh1ielbNmLJ",
        "outputId": "b0a738e5-76ee-4037-98e9-6598eb7ac287"
      },
      "outputs": [
        {
          "output_type": "stream",
          "name": "stdout",
          "text": [
            "Accuracy: 60.12%\n",
            "F1- Score: 0.5094956095568716\n",
            "Precision: 0.5026188557614827\n",
            "Recall: 0.5165631469979296\n"
          ]
        },
        {
          "output_type": "display_data",
          "data": {
            "text/plain": [
              "<Figure size 540x540 with 1 Axes>"
            ],
            "image/png": "[encoded data removed]"
          },
          "metadata": {
            "needs_background": "light"
          }
        }
      ],
      "source": [
        "# Define a Naive Bayes classifier\n",
        "clf = GaussianNB()\n",
        "\n",
        "# Train the classifier\n",
        "clf.fit(x_training_2d, y_training1[:, 1])\n",
        "\n",
        "# Predict on the testing data\n",
        "y_pred = clf.predict(x_testing_2d)\n",
        "\n",
        "# Compute the accuracy\n",
        "accuracy = (y_pred == y_testing1[:, 1]).mean()\n",
        "print(\"Accuracy: {:.2f}%\".format(accuracy * 100))\n",
        "print(\"F1- Score:\",f1_score(y_testing1[:, 1], y_pred))\n",
        "print(\"Precision:\",precision_score(y_testing1[:, 1], y_pred))\n",
        "print(\"Recall:\",recall_score(y_testing1[:, 1], y_pred))\n",
        "cm = confusion_matrix(y_testing1[:, 1], y_pred)\n",
        "\n",
        "ig, ax = plt.subplots(figsize=(7.5, 7.5))\n",
        "ax.matshow(cm, cmap=plt.cm.Greens, alpha=0.2)\n",
        "for i in range(cm.shape[0]):\n",
        "    for j in range(cm.shape[1]):\n",
        "        ax.text(x=j, y=i,s=cm[i, j], va='center', ha='center', size='x-large')\n",
        " \n",
        "plt.xlabel('Predictions', fontsize=18)\n",
        "plt.ylabel('Actuals', fontsize=18)\n",
        "plt.title('Confusion Matrix', fontsize=18)\n",
        "plt.show()\n",
        "\n",
        "\n"
      ]
    },
    {
      "cell_type": "code",
      "execution_count": 16,
      "metadata": {
        "colab": {
          "base_uri": "https://localhost:8080/"
        },
        "id": "hcohAG73NmLK",
        "outputId": "8be2792d-fcbe-4390-f624-cd6460c9e4a3"
      },
      "outputs": [
        {
          "output_type": "stream",
          "name": "stdout",
          "text": [
            "              precision    recall  f1-score   support\n",
            "\n",
            "     Neutral       0.67      0.66      0.66      7215\n",
            "       Happy       0.50      0.52      0.51      4830\n",
            "\n",
            "    accuracy                           0.60     12045\n",
            "   macro avg       0.59      0.59      0.59     12045\n",
            "weighted avg       0.60      0.60      0.60     12045\n",
            "\n"
          ]
        }
      ],
      "source": [
        "# Train the classifier\n",
        "clf.fit(x_training_2d, y_training1[:, 1])\n",
        "\n",
        "# Predict on the testing data\n",
        "y_pred = clf.predict(x_testing_2d)\n",
        "\n",
        "# Print classification report\n",
        "print(classification_report(y_testing1[:, 1], y_pred, target_names=[\"Neutral\", \"Happy\"]))\n"
      ]
    },
    {
      "cell_type": "markdown",
      "metadata": {
        "collapsed": true,
        "id": "ErP8vRwwNmLK"
      },
      "source": [
        "[2 Marks] d. Apply Logistic regression to classify faces as happy or sad. Report the accuracy."
      ]
    },
    {
      "cell_type": "code",
      "execution_count": 56,
      "metadata": {
        "scrolled": true,
        "colab": {
          "base_uri": "https://localhost:8080/",
          "height": 677
        },
        "id": "UgoqDAmHNmLL",
        "outputId": "3a0aaa18-89f7-44bf-d24d-1b512e27662b"
      },
      "outputs": [
        {
          "output_type": "stream",
          "name": "stderr",
          "text": [
            "/usr/local/lib/python3.8/dist-packages/sklearn/linear_model/_sag.py:352: ConvergenceWarning: The max_iter was reached which means the coef_ did not converge\n",
            "  warnings.warn(\n"
          ]
        },
        {
          "output_type": "stream",
          "name": "stdout",
          "text": [
            "Accuracy: 75.45%\n",
            "F1- Score: 0.6626354820308044\n",
            "Precision: 0.737992376111817\n",
            "Recall: 0.6012422360248447\n",
            "Confusion Matrix: \n",
            " [[6184 1031]\n",
            " [1926 2904]]\n"
          ]
        },
        {
          "output_type": "display_data",
          "data": {
            "text/plain": [
              "<Figure size 540x540 with 1 Axes>"
            ],
            "image/png": "[encoded data removed]"
          },
          "metadata": {
            "needs_background": "light"
          }
        }
      ],
      "source": [
        "# Define a logistic regression classifier\n",
        "clf = LogisticRegression(solver='saga',random_state=0)\n",
        "\n",
        "# Train the classifier\n",
        "clf.fit(x_training_2d, y_training1[:, 1])\n",
        "\n",
        "# Predict on the testing data\n",
        "y_pred = clf.predict(x_testing_2d)\n",
        "\n",
        "# Compute the accuracy\n",
        "accuracy = (y_pred == y_testing1[:, 1]).mean()\n",
        "print(\"Accuracy: {:.2f}%\".format(accuracy * 100))\n",
        "print(\"F1- Score:\",f1_score(y_testing1[:, 1], y_pred))\n",
        "print(\"Precision:\",precision_score(y_testing1[:, 1], y_pred))\n",
        "print(\"Recall:\",recall_score(y_testing1[:, 1], y_pred))\n",
        "cm = confusion_matrix(y_testing1[:, 1], y_pred)\n",
        "\n",
        "\n",
        "ig, ax = plt.subplots(figsize=(7.5, 7.5))\n",
        "ax.matshow(cm, cmap=plt.cm.Greens, alpha=0.2)\n",
        "for i in range(cm.shape[0]):\n",
        "    for j in range(cm.shape[1]):\n",
        "        ax.text(x=j, y=i,s=cm[i, j], va='center', ha='center', size='x-large')\n",
        " \n",
        "plt.xlabel('Predictions', fontsize=18)\n",
        "plt.ylabel('Actuals', fontsize=18)\n",
        "plt.title('Confusion Matrix', fontsize=18)\n",
        "plt.show()"
      ]
    },
    {
      "cell_type": "code",
      "execution_count": 58,
      "metadata": {
        "colab": {
          "base_uri": "https://localhost:8080/"
        },
        "id": "E1bHzhNzNmLM",
        "outputId": "ec926646-1460-44fa-ca43-4caccdf20f20"
      },
      "outputs": [
        {
          "output_type": "stream",
          "name": "stdout",
          "text": [
            "              precision    recall  f1-score   support\n",
            "\n",
            "     Neutral       0.76      0.86      0.81      7215\n",
            "       Happy       0.74      0.60      0.66      4830\n",
            "\n",
            "    accuracy                           0.75     12045\n",
            "   macro avg       0.75      0.73      0.73     12045\n",
            "weighted avg       0.75      0.75      0.75     12045\n",
            "\n"
          ]
        },
        {
          "output_type": "stream",
          "name": "stderr",
          "text": [
            "/usr/local/lib/python3.8/dist-packages/sklearn/linear_model/_sag.py:352: ConvergenceWarning: The max_iter was reached which means the coef_ did not converge\n",
            "  warnings.warn(\n"
          ]
        }
      ],
      "source": [
        "# Train the classifier\n",
        "clf.fit(x_training_2d, y_training1[:, 1])\n",
        "\n",
        "# Predict on the testing data\n",
        "y_pred = clf.predict(x_testing_2d)\n",
        "\n",
        "# Print classification report\n",
        "print(classification_report(y_testing1[:, 1], y_pred, target_names=[\"Neutral\", \"Happy\"]))\n"
      ]
    },
    {
      "cell_type": "markdown",
      "metadata": {
        "collapsed": true,
        "id": "va4izWVJNmLM"
      },
      "source": [
        "[2 Marks] e. Apply a Support Vector Machine to classify the faces as happy or sad. Choose parameters / arguments to try to maximize your accuracy. Report the accuracy."
      ]
    },
    {
      "cell_type": "code",
      "execution_count": null,
      "metadata": {
        "id": "cpDnKE8gNmLN"
      },
      "outputs": [],
      "source": [
        "# Define an SVM classifier with a radial basis function (RBF) kernel\n",
        "clf = SVC(kernel='rbf', C=1, gamma=0.001)\n",
        "\n",
        "# Train the classifier\n",
        "clf.fit(x_training_2d, y_training1[:, 1])\n",
        "\n",
        "# Predict on the testing data\n",
        "y_pred = clf.predict(x_testing_2d)\n",
        "\n",
        "# Compute the accuracy\n",
        "accuracy = (y_pred == y_testing1[:, 1]).mean()\n",
        "print(\"Accuracy: {:.2f}%\".format(accuracy * 100))\n",
        "print(\"F1- Score:\",f1_score(y_testing1[:, 1], y_pred))\n",
        "print(\"Precision:\",precision_score(y_testing1[:, 1], y_pred))\n",
        "print(\"Recall:\",recall_score(y_testing1[:, 1], y_pred))\n",
        "cm = confusion_matrix(y_testing1[:, 1], y_pred)\n",
        "ig, ax = plt.subplots(figsize=(7.5, 7.5))\n",
        "ax.matshow(cm, cmap=plt.cm.Greens, alpha=0.2)\n",
        "for i in range(cm.shape[0]):\n",
        "    for j in range(cm.shape[1]):\n",
        "        ax.text(x=j, y=i,s=cm[i, j], va='center', ha='center', size='x-large')\n",
        " \n",
        "plt.xlabel('Predictions', fontsize=18)\n",
        "plt.ylabel('Actuals', fontsize=18)\n",
        "plt.title('Confusion Matrix', fontsize=18)\n",
        "plt.show()"
      ]
    },
    {
      "cell_type": "code",
      "execution_count": null,
      "metadata": {
        "id": "sBUfsf1PNmLN"
      },
      "outputs": [],
      "source": [
        "# Train the classifier\n",
        "clf.fit(x_training_2d, y_training1[:, 1])\n",
        "\n",
        "# Predict on the testing data\n",
        "y_pred = clf.predict(x_testing_2d)\n",
        "\n",
        "# Print classification report\n",
        "print(classification_report(y_testing1[:, 1], y_pred, target_names=[\"Neutral\", \"Happy\"]))\n"
      ]
    },
    {
      "cell_type": "markdown",
      "metadata": {
        "id": "c0LQ2wXNNmLO"
      },
      "source": [
        "[1 Mark] f. Which of the approaches above allow you to reliably determine the degree of happiness or sadness (i.e. how happy or how sad)? Which do you trust the most?"
      ]
    },
    {
      "cell_type": "markdown",
      "metadata": {
        "id": "8IgJiENZNmLO"
      },
      "source": [
        "None of the approaches above allow us to reliably determine the degree of happiness or sadness (i.e. how happy or how sad) as they all focus on predicting the presence of a specific emotion (happiness or sadness) in an image rather than the intensity of that emotion.\n",
        "\n",
        "The approach that I trust the most would depend on the specific task at hand and the performance of each approach on the data set being used. In general, I would recommend evaluating the performance of multiple approaches on a given data set and selecting the one with the best overall performance."
      ]
    },
    {
      "cell_type": "markdown",
      "metadata": {
        "id": "wafwT-i5NmLP"
      },
      "source": [
        "[2 Marks] g. Based on your answer to f. show the 5 happiest faces and the 5 saddest faces."
      ]
    },
    {
      "cell_type": "code",
      "execution_count": null,
      "metadata": {
        "id": "UPppsNOaNmLP"
      },
      "outputs": [],
      "source": [
        "# Predict the probabilities for being \"happiness\" using the logistic regression classifier\n",
        "probs = clf.predict_proba(x_testing_2d)[:, 1]\n",
        "\n",
        "# Sort the testing data by the predicted probabilities for being \"happiness\"\n",
        "sorted_idxs = np.argsort(probs)\n",
        "\n",
        "# Get the indices of the top 5 and bottom 5 faces\n",
        "top_5_idxs = sorted_idxs[-5:][::-1]\n",
        "bottom_5_idxs = sorted_idxs[:5]\n",
        "\n",
        "# Display the top 5 and bottom 5 faces\n",
        "fig, axs = plt.subplots(2, 5, figsize=(20, 10))\n",
        "for i, idx in enumerate(top_5_idxs):\n",
        "    axs[0, i].imshow(x_testing1[idx], cmap='gray')\n",
        "    axs[0, i].set_title(\"{:.2f}% happy\".format(probs[idx] * 100))\n",
        "for i, idx in enumerate(bottom_5_idxs):\n",
        "    axs[1, i].imshow(x_testing1[idx], cmap='gray')\n",
        "    axs[1, i].set_title(\"{:.2f}% happy\".format(probs[idx] * 100))\n",
        "plt.show()\n"
      ]
    },
    {
      "cell_type": "markdown",
      "metadata": {
        "id": "qazzQJxYNmLQ"
      },
      "source": [
        "# Part II : Multi-class"
      ]
    },
    {
      "cell_type": "markdown",
      "metadata": {
        "collapsed": true,
        "id": "2vSZtfrPNmLQ"
      },
      "source": [
        "## For this part you will repeat the tasks in Part I, but instead consider the multi-class problem and classify inputs according to all 7 classes. "
      ]
    },
    {
      "cell_type": "markdown",
      "metadata": {
        "id": "pLXgZMw6NmLS"
      },
      "source": [
        "[4 Marks] a. Apply PCA and LDA to represent the faces, display a sample of a few faces for each case. Produce a plot for PCA showing the cumulative variance captured by adding additional principal components (e.g. 1st PC, 1st + 2nd PC, etc.). On the same figure, plot the same curve for only happy and sad faces used in part 1."
      ]
    },
    {
      "cell_type": "code",
      "execution_count": null,
      "metadata": {
        "id": "dWoR1B6iNmLS"
      },
      "outputs": [],
      "source": [
        "# Concatenate the training and testing data for dimensionality reduction\n",
        "x_all = np.concatenate((x_training, x_testing), axis=0)\n",
        "y_all = np.concatenate((y_training, y_testing), axis=0)\n",
        "\n",
        "# Flatten the 2D images into 1D arrays\n",
        "x_all_flat = x_all.reshape(x_all.shape[0], -1)\n",
        "\n",
        "# Apply PCA to reduce the dimensionality of the data\n",
        "pca = PCA()\n",
        "x_pca = pca.fit_transform(x_all_flat)\n",
        "\n",
        "# Apply LDA to further reduce the dimensionality and represent the categories\n",
        "lda = LDA(n_components=6) # Set the number of components to 6 for visualization purposes\n",
        "x_lda = lda.fit_transform(x_pca, y_all.argmax(axis=1))\n",
        "\n",
        "# Plot a sample of a few categories for PCA\n",
        "fig, axs = plt.subplots(nrows=2, ncols=3, figsize=(10, 6))\n",
        "categories = ['Angry', 'Disgust', 'Fear', 'Happy', 'Sad', 'Surprise', 'Neutral']\n",
        "for i, ax in enumerate(axs.flat):\n",
        "    category_indices = np.where(y_all.argmax(axis=1) == i)[0]\n",
        "    sample_indices = np.random.choice(category_indices, 5)\n",
        "    samples = x_pca[sample_indices, :]\n",
        "    ax.imshow(np.hstack(samples.reshape(-1, img_dim, img_dim)))\n",
        "    ax.set_xticks([])\n",
        "    ax.set_yticks([])\n",
        "    ax.set_title(categories[i])\n",
        "\n",
        "# Plot the cumulative variance captured by the principal components for PCA\n",
        "cumulative_variance = np.cumsum(pca.explained_variance_ratio_)\n",
        "plt.figure(figsize=(8, 6))\n",
        "plt.plot(cumulative_variance, label='All categories')\n",
        "happy_sad_indices = np.where((y_all.argmax(axis=1) == 3) | (y_all.argmax(axis=1) == 4))[0]\n",
        "x_pca_happy_sad = x_pca[happy_sad_indices, :]\n",
        "y_happy_sad = y_all[happy_sad_indices, :]\n",
        "pca_happy_sad = PCA()\n",
        "pca_happy_sad.fit(x_pca_happy_sad)\n",
        "cumulative_variance_happy_sad = np.cumsum(pca_happy_sad.explained_variance_ratio_)\n",
        "plt.plot(cumulative_variance_happy_sad, label='Happy and Sad only')\n",
        "plt.xlabel('Number of principal components')\n",
        "plt.ylabel('Cumulative explained variance')\n",
        "plt.legend()\n",
        "plt.show()\n"
      ]
    },
    {
      "cell_type": "markdown",
      "metadata": {
        "id": "gCn5w5FjNmLT"
      },
      "source": [
        "[2 Marks] b. Classify the faces using Naive Bayes and report your accuracy."
      ]
    },
    {
      "cell_type": "code",
      "execution_count": null,
      "metadata": {
        "id": "xd2lEfe_NmLU"
      },
      "outputs": [],
      "source": [
        "# Flatten the 2D images into 1D arrays for classification\n",
        "x_training_flat = x_training.reshape(x_training.shape[0], -1)\n",
        "x_testing_flat = x_testing.reshape(x_testing.shape[0], -1)\n",
        "\n",
        "# Train a Naive Bayes classifier\n",
        "nb = MultinomialNB()\n",
        "nb.fit(x_training_flat, y_training.argmax(axis=1))\n",
        "\n",
        "# Test the classifier on the testing set\n",
        "y_pred = nb.predict(x_testing_flat)\n",
        "\n",
        "# Compute the accuracy\n",
        "accuracy = np.mean(y_pred == y_testing.argmax(axis=1))\n",
        "print(f\"Accuracy: {accuracy}\")\n"
      ]
    },
    {
      "cell_type": "markdown",
      "metadata": {
        "id": "AR4ez-QeNmLU"
      },
      "source": [
        "Visualize the results of your classifier on the test set using a confusion matrix. Describe briefly how the multi-class nature of the problem is treated by the classifier.\n",
        "DESCRIBE BRIEFLY HERE"
      ]
    },
    {
      "cell_type": "code",
      "execution_count": null,
      "metadata": {
        "id": "sJn8FeJdNmLV"
      },
      "outputs": [],
      "source": [
        "# Compute the confusion matrix\n",
        "conf_mat = confusion_matrix(y_testing.argmax(axis=1), y_pred)\n",
        "\n",
        "# Visualize the confusion matrix using seaborn\n",
        "sns.heatmap(conf_mat, cmap=\"Blues\", annot=True, fmt=\"d\", xticklabels=[\"angry\", \"disgust\", \"fear\", \"happy\", \"sad\", \"surprise\", \"neutral\"], yticklabels=[\"angry\", \"disgust\", \"fear\", \"happy\", \"sad\", \"surprise\", \"neutral\"])\n",
        "plt.xlabel(\"Predicted label\")\n",
        "plt.ylabel(\"True label\")\n",
        "plt.show()\n"
      ]
    },
    {
      "cell_type": "markdown",
      "metadata": {
        "id": "ANM6s8CmNmLW"
      },
      "source": [
        "[2 Marks] c. Classify the faces using logistic regression and report your accuracy."
      ]
    },
    {
      "cell_type": "code",
      "execution_count": null,
      "metadata": {
        "id": "3s-gJK9DNmLW"
      },
      "outputs": [],
      "source": [
        "# Flatten the 2D images into 1D arrays for classification\n",
        "x_training_flat = x_training.reshape(x_training.shape[0], -1)\n",
        "x_testing_flat = x_testing.reshape(x_testing.shape[0], -1)"
      ]
    },
    {
      "cell_type": "code",
      "execution_count": null,
      "metadata": {
        "id": "4H_NMF49NmLX"
      },
      "outputs": [],
      "source": [
        "# Train a logistic regression classifier\n",
        "lr = LogisticRegression(solver='saga',max_iter=1000)\n",
        "lr.fit(x_training_flat, y_training.argmax(axis=1))\n",
        "\n",
        "# Test the classifier on the testing set\n",
        "y_pred = lr.predict(x_testing_flat)\n",
        "\n",
        "# Compute the accuracy\n",
        "accuracy = np.mean(y_pred == y_testing.argmax(axis=1))\n",
        "print(f\"Accuracy: {accuracy}\")"
      ]
    },
    {
      "cell_type": "markdown",
      "metadata": {
        "id": "fd4vo9_qNmLX"
      },
      "source": [
        "Visualize the results of your classifier on the test set using a confusion matrix. Describe briefly how the multi-class nature of the problem is treated by the classifier.\n",
        "DESCRIBE BRIEFLY HERE"
      ]
    },
    {
      "cell_type": "code",
      "execution_count": null,
      "metadata": {
        "id": "OCQyaLKnNmLX"
      },
      "outputs": [],
      "source": [
        "# YOUR CODE HERE\n",
        "# Compute the confusion matrix\n",
        "conf_mat = confusion_matrix(y_testing.argmax(axis=1), y_pred)\n",
        "\n",
        "# Visualize the confusion matrix using seaborn\n",
        "sns.heatmap(conf_mat, cmap=\"Blues\", annot=True, fmt=\"d\", xticklabels=[\"angry\", \"disgust\", \"fear\", \"happy\", \"sad\", \"surprise\", \"neutral\"], yticklabels=[\"angry\", \"disgust\", \"fear\", \"happy\", \"sad\", \"surprise\", \"neutral\"])\n",
        "plt.xlabel(\"Predicted label\")\n",
        "plt.ylabel(\"True label\")\n",
        "plt.show()"
      ]
    },
    {
      "cell_type": "markdown",
      "metadata": {
        "id": "ceEnq-uHNmLY"
      },
      "source": [
        "[2 Marks] d. Classify the faces using a support vector machine and report your accuracy."
      ]
    },
    {
      "cell_type": "code",
      "execution_count": null,
      "metadata": {
        "id": "fGGzL6WQNmLY"
      },
      "outputs": [],
      "source": [
        "# YOUR CODE HERE\n",
        "from sklearn.svm import SVC\n",
        "\n",
        "# Train an SVM classifier\n",
        "svm = SVC(kernel='linear')\n",
        "svm.fit(x_training_flat, y_training.argmax(axis=1))\n",
        "\n",
        "# Test the classifier on the testing set\n",
        "y_pred = svm.predict(x_testing_flat)\n",
        "\n",
        "# Compute the accuracy\n",
        "accuracy = np.mean(y_pred == y_testing.argmax(axis=1))\n",
        "print(f\"Accuracy: {accuracy}\")\n"
      ]
    },
    {
      "cell_type": "markdown",
      "metadata": {
        "id": "aCtDb4q3NmLY"
      },
      "source": [
        "Visualize the results of your classifier on the test set using a confusion matrix. Describe briefly how the multi-class nature of the problem is treated by the classifier.\n",
        "DESCRIBE BRIEFLY HERE"
      ]
    },
    {
      "cell_type": "code",
      "execution_count": null,
      "metadata": {
        "id": "gBoGbvNLNmLZ"
      },
      "outputs": [],
      "source": [
        "# Compute the confusion matrix\n",
        "conf_mat = confusion_matrix(y_testing.argmax(axis=1), y_pred)\n",
        "\n",
        "# Visualize the confusion matrix using seaborn\n",
        "sns.heatmap(conf_mat, cmap=\"Blues\", annot=True, fmt=\"d\", xticklabels=[\"angry\", \"disgust\", \"fear\", \"happy\", \"sad\", \"surprise\", \"neutral\"], yticklabels=[\"angry\", \"disgust\", \"fear\", \"happy\", \"sad\", \"surprise\", \"neutral\"])\n",
        "plt.xlabel(\"Predicted label\")\n",
        "plt.ylabel(\"True label\")\n",
        "plt.show()"
      ]
    },
    {
      "cell_type": "markdown",
      "metadata": {
        "id": "i-Jo0jnBNmLZ"
      },
      "source": [
        "[2 Marks] e. Which categories of faces seem to be most similar or least similar?\n",
        "EXPLAIN HERE"
      ]
    },
    {
      "cell_type": "markdown",
      "metadata": {
        "id": "QS-9lFYZNmLZ"
      },
      "source": [
        "Interpreting the confusion matrix can give us insights into which categories of faces are most or least similar. In the matrix, each row corresponds to the true label and each column corresponds to the predicted label. The diagonal of the matrix shows the number of correct predictions for each class. Off-diagonal elements represent misclassifications.\n",
        "\n",
        "For example, if we see a lot of misclassifications between two classes, then those classes are likely to be similar. If we see few misclassifications, then the classes are likely to be dissimilar."
      ]
    },
    {
      "cell_type": "code",
      "execution_count": null,
      "metadata": {
        "id": "W3G0yu43NmLa"
      },
      "outputs": [],
      "source": [
        "# Compute the confusion matrix\n",
        "cm = confusion_matrix(y_testing.argmax(axis=1), y_pred)\n",
        "\n",
        "# Visualize the confusion matrix as a heatmap\n",
        "sns.heatmap(cm, annot=True, cmap=\"Blues\", fmt=\"d\")\n"
      ]
    },
    {
      "cell_type": "markdown",
      "metadata": {
        "id": "Gqtd_2yMNmLa"
      },
      "source": [
        "[4 Marks] f. Let's assume that some of the faces were labeled wrong in producing the dataset. Propose and implement a solution that identifies images that are potentially mislabeled. Show 10 samples based on the method you choose."
      ]
    },
    {
      "cell_type": "markdown",
      "metadata": {
        "id": "ZtBLVf55NmLa"
      },
      "source": [
        "One approach to identifying potentially mislabeled images is to use an outlier detection method. One such method is the Local Outlier Factor (LOF) algorithm, which identifies outliers based on their distance from their nearest neighbors in the feature space. We can use this algorithm to identify images that are outliers in their feature representation.\n",
        "\n"
      ]
    },
    {
      "cell_type": "code",
      "execution_count": null,
      "metadata": {
        "id": "x7ql_CaXNmLb"
      },
      "outputs": [],
      "source": [
        "# YOUR CODE HERE\n",
        "from sklearn.neighbors import LocalOutlierFactor\n",
        "\n",
        "# Fit LOF on the training set\n",
        "lof = LocalOutlierFactor(n_neighbors=20, contamination=0.1)\n",
        "lof.fit(x_training.reshape(-1, n_inputs))\n",
        "\n",
        "# Compute the LOF scores for the testing set\n",
        "lof_scores = -lof.score_samples(x_testing.reshape(-1, n_inputs))\n",
        "\n",
        "# Sort the scores in descending order\n",
        "sorted_scores = np.argsort(lof_scores)[::-1]\n",
        "\n",
        "# Display the top 10 images with the highest LOF scores\n",
        "fig, axs = plt.subplots(2, 5, figsize=(15, 6))\n",
        "for i, ax in enumerate(axs.flat):\n",
        "    ax.imshow(x_testing[sorted_scores[i]], cmap='gray')\n",
        "    ax.set_title(f\"LOF score: {lof_scores[sorted_scores[i]]:.2f}\")\n",
        "    ax.axis('off')\n",
        "    if i == 9:\n",
        "        break\n",
        "plt.show()\n"
      ]
    },
    {
      "cell_type": "markdown",
      "metadata": {
        "id": "T4ApQ-ELNmLb"
      },
      "source": [
        "# Optional"
      ]
    },
    {
      "cell_type": "markdown",
      "metadata": {
        "id": "BqqUP-sNNmLb"
      },
      "source": [
        "From all the classification approaches considered above, choose one to score faces based on a continuous valued prediction of for each of the categories."
      ]
    },
    {
      "cell_type": "markdown",
      "metadata": {
        "id": "UnFibU1GNmLc"
      },
      "source": [
        "[No Marks] a. Produce a prediction for each face in the test set (this has 7 dimensions). Visualize these based on a 2D embedding of the scores. The \"data points\" plotted in the embedding should show the actual picture of the face, at the corresponding 2D point location. (You could consider using t-SNE for your embedding)"
      ]
    },
    {
      "cell_type": "code",
      "execution_count": null,
      "metadata": {
        "id": "9MXW-0UqNmLc"
      },
      "outputs": [],
      "source": [
        "# YOUR CODE HERE"
      ]
    },
    {
      "cell_type": "code",
      "execution_count": null,
      "metadata": {
        "id": "s4K6P5bvNmLd"
      },
      "outputs": [],
      "source": []
    }
  ],
  "metadata": {
    "anaconda-cloud": {},
    "kernelspec": {
      "display_name": "Python 3 (ipykernel)",
      "language": "python",
      "name": "python3"
    },
    "language_info": {
      "codemirror_mode": {
        "name": "ipython",
        "version": 3
      },
      "file_extension": ".py",
      "mimetype": "text/x-python",
      "name": "python",
      "nbconvert_exporter": "python",
      "pygments_lexer": "ipython3",
      "version": "3.9.12"
    },
    "colab": {
      "provenance": [],
      "include_colab_link": true
    }
  },
  "nbformat": 4,
  "nbformat_minor": 0
}